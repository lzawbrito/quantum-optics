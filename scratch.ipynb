{
 "cells": [
  {
   "cell_type": "markdown",
   "metadata": {},
   "source": [
    "# Scratch\n",
    "This is a scratch file for testing miscellaneous things"
   ]
  },
  {
   "cell_type": "code",
   "execution_count": 1,
   "metadata": {},
   "outputs": [],
   "source": [
    "import numpy as np"
   ]
  },
  {
   "cell_type": "code",
   "execution_count": 2,
   "metadata": {},
   "outputs": [],
   "source": [
    "def pins2v(pins, pin_voltage=5):\n",
    "\t\"\"\"\n",
    "\tOutput voltage of R-2R ladder with pin voltages given by `pins * pin_voltage`. \n",
    "\tE.g., if there are four pins operating at 5V and pin 1 is on and the others off, \n",
    "\twe have `pins2v([1, 0, 0, 0], pin_voltage=5)`.\n",
    "\t\"\"\"\n",
    "\n",
    "\tvolt = pin_voltage * np.power(2, np.arange(0, len(pins))) / 2**(len(pins))\n",
    "\treturn np.dot(pins, volt)\n",
    "\n",
    "def int2pins(i, n_pins, as_list=True):\n",
    "\t\"\"\"\n",
    "\tConvert integer `i` into an bitstring with length `n_pins`. Split to \n",
    "\tarray of ints if `as_list=True`.\n",
    "\t\"\"\"\n",
    "\tout = f'{{0:0{n_pins}b}}'.format(i)\n",
    "\tif as_list: \n",
    "\t\treturn [int(a) for a in [*out]] # [*out] \"unpacks\" string\n",
    "\telse: \n",
    "\t\treturn out"
   ]
  },
  {
   "cell_type": "code",
   "execution_count": 3,
   "metadata": {},
   "outputs": [
    {
     "data": {
      "text/plain": [
       "4.9951171875"
      ]
     },
     "execution_count": 3,
     "metadata": {},
     "output_type": "execute_result"
    }
   ],
   "source": [
    "pins2v(np.ones(10))"
   ]
  },
  {
   "cell_type": "code",
   "execution_count": 9,
   "metadata": {},
   "outputs": [
    {
     "data": {
      "text/plain": [
       "16"
      ]
     },
     "execution_count": 9,
     "metadata": {},
     "output_type": "execute_result"
    }
   ],
   "source": [
    "int.from_bytes(b'\\x10', \"little\")"
   ]
  }
 ],
 "metadata": {
  "kernelspec": {
   "display_name": "misc-phys",
   "language": "python",
   "name": "python3"
  },
  "language_info": {
   "codemirror_mode": {
    "name": "ipython",
    "version": 3
   },
   "file_extension": ".py",
   "mimetype": "text/x-python",
   "name": "python",
   "nbconvert_exporter": "python",
   "pygments_lexer": "ipython3",
   "version": "3.10.5"
  }
 },
 "nbformat": 4,
 "nbformat_minor": 2
}
