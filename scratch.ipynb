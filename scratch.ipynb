{
 "cells": [
  {
   "cell_type": "markdown",
   "metadata": {},
   "source": [
    "# Scratch\n",
    "This is a scratch file for testing miscellaneous things"
   ]
  },
  {
   "cell_type": "code",
   "execution_count": 2,
   "metadata": {},
   "outputs": [],
   "source": [
    "import numpy as np"
   ]
  },
  {
   "cell_type": "code",
   "execution_count": 20,
   "metadata": {},
   "outputs": [
    {
     "data": {
      "text/plain": [
       "'1111'"
      ]
     },
     "execution_count": 20,
     "metadata": {},
     "output_type": "execute_result"
    }
   ],
   "source": [
    "\n",
    "# Output voltage of \n",
    "def pins2v(pins, pin_voltage=1):\n",
    "\tvolt = pin_voltage * np.power(2, np.arange(0, len(pins))) / 2**(len(pins))\n",
    "\treturn np.dot(pins, volt)\n",
    "\n",
    "pins2v([1,1,1,1], 5)\n",
    "\n",
    "def int2pins(i, n_pins):\n",
    "\treturn f'{{0:0{n_pins}b}}'.format(i)\n"
   ]
  }
 ],
 "metadata": {
  "kernelspec": {
   "display_name": "misc-phys",
   "language": "python",
   "name": "python3"
  },
  "language_info": {
   "codemirror_mode": {
    "name": "ipython",
    "version": 3
   },
   "file_extension": ".py",
   "mimetype": "text/x-python",
   "name": "python",
   "nbconvert_exporter": "python",
   "pygments_lexer": "ipython3",
   "version": "3.10.5"
  }
 },
 "nbformat": 4,
 "nbformat_minor": 2
}
