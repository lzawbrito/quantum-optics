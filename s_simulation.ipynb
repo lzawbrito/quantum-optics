{
 "cells": [
  {
   "cell_type": "code",
   "execution_count": 36,
   "metadata": {},
   "outputs": [],
   "source": [
    "import numpy as np\n",
    "import matplotlib.pyplot as plt\n",
    "\n",
    "plt.rc('text.latex', preamble=r'\\usepackage{mathptmx}')"
   ]
  },
  {
   "cell_type": "code",
   "execution_count": 37,
   "metadata": {},
   "outputs": [],
   "source": [
    "a0 = -45\n",
    "a1 = 0 \n",
    "b0 = -22.5 \n",
    "b1 = 22.5\n",
    "\n",
    "angles = [\n",
    "    (a0, b0),\n",
    "    (a0 + 90, b0 + 90),\n",
    "    (a0 + 90, b0),\n",
    "    (a0, b0 + 90),\n",
    "    (a0, b1),\n",
    "    (a0 + 90, b1 + 90),\n",
    "    (a0 + 90, b1),\n",
    "    (a0, b1 + 90),\n",
    "    (a1, b0),\n",
    "    (a1 + 90, b0 + 90),\n",
    "    (a1 + 90, b0),\n",
    "    (a1, b0 + 90),\n",
    "    (a1, b1),\n",
    "    (a1 + 90, b1 + 90),\n",
    "    (a1 + 90, b1),\n",
    "    (a1, b1 + 90),\n",
    "]\n"
   ]
  },
  {
   "cell_type": "code",
   "execution_count": 38,
   "metadata": {},
   "outputs": [],
   "source": [
    "def counts(X, th, ph, A, C): \n",
    "    a, b = X\n",
    "    \n",
    "    # Degrees -> radians\n",
    "    alpha  = np.pi * a / 180 \n",
    "    beta   = np.pi * b / 180\n",
    "    thetal = np.pi * th / 180\n",
    "    phim   = np.pi * ph / 180\n",
    "\n",
    "    res = A * (\n",
    "            np.power(np.sin(alpha) * np.sin(beta) * np.cos(thetal), 2)\n",
    "            + np.power(np.cos(alpha) * np.cos(beta) * np.sin(thetal), 2)\n",
    "            + (1/4) * np.sin(2 * alpha) * np.sin(2 * beta) * np.sin(2 * thetal) * np.cos(phim)\n",
    "        ) + C\n",
    "\n",
    "    return res.flatten()\n"
   ]
  },
  {
   "cell_type": "code",
   "execution_count": 39,
   "metadata": {},
   "outputs": [
    {
     "data": {
      "text/plain": [
       "array([[2.82842712, 1.41421356, 0.        ],\n",
       "       [2.81681645, 1.41421356, 0.01161067],\n",
       "       [2.78217508, 1.41421356, 0.04625205],\n",
       "       [2.72507181, 1.41421356, 0.10335531],\n",
       "       [2.64644429, 1.41421356, 0.18198283],\n",
       "       [2.54758358, 1.41421356, 0.28084355],\n",
       "       [2.43011296, 1.41421356, 0.39831417],\n",
       "       [2.2959613 , 1.41421356, 0.53246583],\n",
       "       [2.14733136, 1.41421356, 0.68109576],\n",
       "       [1.98666366, 1.41421356, 0.84176347],\n",
       "       [1.81659633, 1.41421356, 1.01183079],\n",
       "       [1.6399219 , 1.41421356, 1.18850523],\n",
       "       [1.45954134, 1.41421356, 1.36888579],\n",
       "       [1.2784165 , 1.41421356, 1.55001063],\n",
       "       [1.09952144, 1.41421356, 1.72890569],\n",
       "       [0.92579362, 1.41421356, 1.90263351],\n",
       "       [0.76008564, 1.41421356, 2.06834149],\n",
       "       [0.60511842, 1.41421356, 2.2233087 ],\n",
       "       [0.46343653, 1.41421356, 2.3649906 ],\n",
       "       [0.33736636, 1.41421356, 2.49106076],\n",
       "       [0.228978  , 1.41421356, 2.59944913],\n",
       "       [0.14005117, 1.41421356, 2.68837595],\n",
       "       [0.07204605, 1.41421356, 2.75638107],\n",
       "       [0.02607929, 1.41421356, 2.80234783],\n",
       "       [0.00290565, 1.41421356, 2.82552147],\n",
       "       [0.00290565, 1.41421356, 2.82552147],\n",
       "       [0.02607929, 1.41421356, 2.80234783],\n",
       "       [0.07204605, 1.41421356, 2.75638107],\n",
       "       [0.14005117, 1.41421356, 2.68837595],\n",
       "       [0.228978  , 1.41421356, 2.59944913],\n",
       "       [0.33736636, 1.41421356, 2.49106076],\n",
       "       [0.46343653, 1.41421356, 2.3649906 ],\n",
       "       [0.60511842, 1.41421356, 2.2233087 ],\n",
       "       [0.76008564, 1.41421356, 2.06834149],\n",
       "       [0.92579362, 1.41421356, 1.90263351],\n",
       "       [1.09952144, 1.41421356, 1.72890569],\n",
       "       [1.2784165 , 1.41421356, 1.55001063],\n",
       "       [1.45954134, 1.41421356, 1.36888579],\n",
       "       [1.6399219 , 1.41421356, 1.18850523],\n",
       "       [1.81659633, 1.41421356, 1.01183079],\n",
       "       [1.98666366, 1.41421356, 0.84176347],\n",
       "       [2.14733136, 1.41421356, 0.68109576],\n",
       "       [2.2959613 , 1.41421356, 0.53246583],\n",
       "       [2.43011296, 1.41421356, 0.39831417],\n",
       "       [2.54758358, 1.41421356, 0.28084355],\n",
       "       [2.64644429, 1.41421356, 0.18198283],\n",
       "       [2.72507181, 1.41421356, 0.10335531],\n",
       "       [2.78217508, 1.41421356, 0.04625205],\n",
       "       [2.81681645, 1.41421356, 0.01161067],\n",
       "       [2.82842712, 1.41421356, 0.        ]])"
      ]
     },
     "execution_count": 39,
     "metadata": {},
     "output_type": "execute_result"
    }
   ],
   "source": [
    "s = []\n",
    "phis = np.linspace(0, 360, 50)\n",
    "thetas = np.arange(45, 180, 45)\n",
    "\n",
    "for th in thetas:\n",
    "    s_th = []\n",
    "    for ph in phis:\n",
    "\n",
    "        n = {} \n",
    "        for ang in angles: \n",
    "            n[ang] = counts(ang, th, ph, 1, 0)\n",
    "\n",
    "        def E(alpha, beta): \n",
    "            a_b, ap_b, a_bp, ap_bp = [n[(alpha, beta)], n[(alpha + 90, beta)], n[(alpha, beta + 90)], n[(alpha + 90, beta + 90)]]\n",
    "            return (a_b + ap_bp - a_bp - ap_b) / (a_b + ap_bp + a_bp + ap_b)\n",
    "\n",
    "        S = E(a0, b0) - E(a0, b1) + E(a1, b0) + E(a1, b1)\n",
    "        s_th.append(S[0])\n",
    "    s.append(s_th)\n",
    "s = np.array(s).T\n",
    "s"
   ]
  },
  {
   "cell_type": "code",
   "execution_count": 40,
   "metadata": {},
   "outputs": [
    {
     "data": {
      "image/png": "[encoded data removed]",
      "text/plain": [
       "<Figure size 450x200 with 1 Axes>"
      ]
     },
     "metadata": {},
     "output_type": "display_data"
    }
   ],
   "source": [
    "fig, ax = plt.subplots(figsize=(4.5,2)) \n",
    "ax.plot(phis, s, label=[f'${th}^\\\\circ$' for th in thetas])\n",
    "ax.plot(np.linspace(-20,400,2), 2*np.ones(2), color='red', linestyle='dashed')\n",
    "ax.set_xlim(-5, 365)\n",
    "ax.legend(bbox_to_anchor=(1, 0.7), title='$\\\\theta_\\\\ell$')\n",
    "ax.set_xlabel('$\\\\phi$')\n",
    "ax.set_ylabel('$S$')\n",
    "plt.savefig('./fig/s_theory.pdf')"
   ]
  },
  {
   "cell_type": "code",
   "execution_count": null,
   "metadata": {},
   "outputs": [],
   "source": []
  }
 ],
 "metadata": {
  "kernelspec": {
   "display_name": ".venv",
   "language": "python",
   "name": "python3"
  },
  "language_info": {
   "codemirror_mode": {
    "name": "ipython",
    "version": 3
   },
   "file_extension": ".py",
   "mimetype": "text/x-python",
   "name": "python",
   "nbconvert_exporter": "python",
   "pygments_lexer": "ipython3",
   "version": "3.13.1"
  }
 },
 "nbformat": 4,
 "nbformat_minor": 2
}
