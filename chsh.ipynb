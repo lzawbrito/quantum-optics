{
 "cells": [
  {
   "cell_type": "code",
   "execution_count": 2,
   "metadata": {},
   "outputs": [],
   "source": [
    "import numpy as np\n",
    "import os "
   ]
  },
  {
   "cell_type": "code",
   "execution_count": 3,
   "metadata": {},
   "outputs": [],
   "source": [
    "dirname = './02-04/'\n",
    "a0 = -45\n",
    "a1 = 0 \n",
    "b0 = -22.5 \n",
    "b1 = 22.5\n",
    "\n",
    "angles = [\n",
    "    (a0, b0),\n",
    "    (a0 + 90, b0 + 90),\n",
    "    (a0 + 90, b0),\n",
    "    (a0, b0 + 90),\n",
    "    (a0, b1),\n",
    "    (a0 + 90, b1 + 90),\n",
    "    (a0 + 90, b1),\n",
    "    (a0, b1 + 90),\n",
    "    (a1, b0),\n",
    "    (a1 + 90, b0 + 90),\n",
    "    (a1 + 90, b0),\n",
    "    (a1, b0 + 90),\n",
    "    (a1, b1),\n",
    "    (a1 + 90, b1 + 90),\n",
    "    (a1 + 90, b1),\n",
    "    (a1, b1 + 90),\n",
    "]\n",
    "\n",
    "coinc_window = 40e-9\n",
    "acq_time = 1"
   ]
  },
  {
   "cell_type": "code",
   "execution_count": 7,
   "metadata": {},
   "outputs": [],
   "source": [
    "n = {} \n",
    "for ang in angles: \n",
    "    n[ang] = np.mean(np.loadtxt(os.path.join(dirname, f'{ang[0]}_{ang[1]}.txt')), axis=0)[-1]\n",
    "\n",
    "nb = {} \n",
    "for ang in angles: \n",
    "    nb[ang] = np.mean(np.loadtxt(os.path.join(dirname, f'{ang[0]}_{ang[1]}.txt')), axis=0)[1]\n",
    "\n",
    "nbp = {} \n",
    "for ang in angles: \n",
    "    nbp[ang] = np.mean(np.loadtxt(os.path.join(dirname, f'{ang[0]}_{ang[1]}.txt')), axis=0)[3]\n",
    "\n"
   ]
  },
  {
   "cell_type": "code",
   "execution_count": 8,
   "metadata": {},
   "outputs": [
    {
     "name": "stdout",
     "output_type": "stream",
     "text": [
      "$-45^\\circ$ & $-22.5^\\circ$ & 25973 & 20043 & 729 & 21 \\\\\n",
      "$45^\\circ$ & $67.5^\\circ$ & 26478 & 22288 & 763 & 24 \\\\\n",
      "$45^\\circ$ & $-22.5^\\circ$ & 25585 & 20316 & 226 & 21 \\\\\n",
      "$-45^\\circ$ & $67.5^\\circ$ & 26184 & 21735 & 261 & 23 \\\\\n",
      "$-45^\\circ$ & $22.5^\\circ$ & 26188 & 19693 & 196 & 21 \\\\\n",
      "$45^\\circ$ & $112.5^\\circ$ & 25490 & 22602 & 288 & 23 \\\\\n",
      "$45^\\circ$ & $22.5^\\circ$ & 26013 & 20004 & 670 & 21 \\\\\n",
      "$-45^\\circ$ & $112.5^\\circ$ & 26440 & 22404 & 804 & 24 \\\\\n",
      "$0^\\circ$ & $-22.5^\\circ$ & 24332 & 20391 & 774 & 20 \\\\\n",
      "$90^\\circ$ & $67.5^\\circ$ & 28611 & 22215 & 860 & 25 \\\\\n",
      "$90^\\circ$ & $-22.5^\\circ$ & 28959 & 20673 & 193 & 24 \\\\\n",
      "$0^\\circ$ & $67.5^\\circ$ & 24229 & 21979 & 196 & 21 \\\\\n",
      "$0^\\circ$ & $22.5^\\circ$ & 24371 & 19877 & 776 & 19 \\\\\n",
      "$90^\\circ$ & $112.5^\\circ$ & 27877 & 22576 & 915 & 25 \\\\\n",
      "$90^\\circ$ & $22.5^\\circ$ & 28550 & 19846 & 132 & 23 \\\\\n",
      "$0^\\circ$ & $112.5^\\circ$ & 24190 & 22841 & 109 & 22 \\\\\n"
     ]
    }
   ],
   "source": [
    "for a in angles: \n",
    "    row = f'${a[0]}^\\\\circ$ & ${a[1]}^\\\\circ$ & ' + \\\n",
    "            f'{round(nb[a])} & {round(nbp[a])} & {round(n[a])} & ' + \\\n",
    "            f'{round(nb[a] * nbp[a] * coinc_window / acq_time)} \\\\\\\\'\n",
    "    print(row)"
   ]
  },
  {
   "cell_type": "markdown",
   "metadata": {},
   "source": [
    "## Calculate S"
   ]
  },
  {
   "cell_type": "code",
   "execution_count": 9,
   "metadata": {},
   "outputs": [],
   "source": [
    "def E(alpha, beta): \n",
    "    a_b, ap_b, a_bp, ap_bp = [n[(alpha, beta)], n[(alpha + 90, beta)], n[(alpha, beta + 90)], n[(alpha + 90, beta + 90)]]\n",
    "    return (a_b + ap_bp - a_bp - ap_b) / (a_b + ap_bp + a_bp + ap_b)\n",
    "\n",
    "S = E(a0, b0) - E(a0, b1) + E(a1, b0) + E(a1, b1)"
   ]
  },
  {
   "cell_type": "markdown",
   "metadata": {},
   "source": [
    "## Error propagation"
   ]
  },
  {
   "cell_type": "code",
   "execution_count": 10,
   "metadata": {},
   "outputs": [
    {
     "name": "stdout",
     "output_type": "stream",
     "text": [
      "S = 2.378 ± 0.045\n"
     ]
    }
   ],
   "source": [
    "ps = [(0, 0), (90, 90), (90, 0), (0, 90)]\n",
    "dss = {}\n",
    "\n",
    "\n",
    "for a, b in [(a0, b0), (a1, b0), (a0, b1), (a1, b1)]:\n",
    "    ntot = 0 \n",
    "\n",
    "    for pa, pb in ps:\n",
    "        ntot += n[(a + pa, b + pb)]\n",
    "\n",
    "    for pa, pb in ps: \n",
    "        factor = 1\n",
    "        if pa + pb == 90: \n",
    "            factor = -1\n",
    "    \n",
    "        dss[(a + pa, b + pb)] = (factor * ntot - 1) / ntot**2 \n",
    "\n",
    "std = np.sqrt(sum(n[(a, b)] * dss[(a, b)]**2 for a, b in angles))\n",
    "print(f'S = {'{:.4}'.format(S)} ± {'{:.3}'.format(std)}') "
   ]
  }
 ],
 "metadata": {
  "kernelspec": {
   "display_name": ".venv",
   "language": "python",
   "name": "python3"
  },
  "language_info": {
   "codemirror_mode": {
    "name": "ipython",
    "version": 3
   },
   "file_extension": ".py",
   "mimetype": "text/x-python",
   "name": "python",
   "nbconvert_exporter": "python",
   "pygments_lexer": "ipython3",
   "version": "3.13.1"
  }
 },
 "nbformat": 4,
 "nbformat_minor": 2
}
