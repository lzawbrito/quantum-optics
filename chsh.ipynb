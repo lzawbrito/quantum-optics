{
 "cells": [
  {
   "cell_type": "code",
   "execution_count": 2,
   "metadata": {},
   "outputs": [],
   "source": [
    "import numpy as np\n",
    "import os "
   ]
  },
  {
   "cell_type": "code",
   "execution_count": 3,
   "metadata": {},
   "outputs": [],
   "source": [
    "dirname = './02-04/'\n",
    "a0 = -45\n",
    "a1 = 0 \n",
    "b0 = -22.5 \n",
    "b1 = 22.5\n",
    "\n",
    "angles = [\n",
    "    (a0, b0),\n",
    "    (a0 + 90, b0 + 90),\n",
    "    (a0 + 90, b0),\n",
    "    (a0, b0 + 90),\n",
    "    (a0, b1),\n",
    "    (a0 + 90, b1 + 90),\n",
    "    (a0 + 90, b1),\n",
    "    (a0, b1 + 90),\n",
    "    (a1, b0),\n",
    "    (a1 + 90, b0 + 90),\n",
    "    (a1 + 90, b0),\n",
    "    (a1, b0 + 90),\n",
    "    (a1, b1),\n",
    "    (a1 + 90, b1 + 90),\n",
    "    (a1 + 90, b1),\n",
    "    (a1, b1 + 90),\n",
    "]\n",
    "\n",
    "coinc_window = 40e-9\n",
    "acq_time = 1"
   ]
  },
  {
   "cell_type": "code",
   "execution_count": null,
   "metadata": {},
   "outputs": [
    {
     "data": {
      "text/plain": [
       "{(-45, -22.5): np.float64(25973.016666666666),\n",
       " (45, 67.5): np.float64(26478.433333333334),\n",
       " (45, -22.5): np.float64(25584.7),\n",
       " (-45, 67.5): np.float64(26183.716666666667),\n",
       " (-45, 22.5): np.float64(26187.733333333334),\n",
       " (45, 112.5): np.float64(25490.416666666668),\n",
       " (45, 22.5): np.float64(26013.483333333334),\n",
       " (-45, 112.5): np.float64(26440.1),\n",
       " (0, -22.5): np.float64(24331.85),\n",
       " (90, 67.5): np.float64(28611.0),\n",
       " (90, -22.5): np.float64(28959.45),\n",
       " (0, 67.5): np.float64(24228.95),\n",
       " (0, 22.5): np.float64(24371.433333333334),\n",
       " (90, 112.5): np.float64(27877.116666666665),\n",
       " (90, 22.5): np.float64(28550.5),\n",
       " (0, 112.5): np.float64(24189.733333333334)}"
      ]
     },
     "execution_count": 12,
     "metadata": {},
     "output_type": "execute_result"
    }
   ],
   "source": [
    "n = {} \n",
    "for ang in angles: \n",
    "    n[ang] = np.mean(np.loadtxt(os.path.join(dirname, f'{ang[0]}_{ang[1]}.txt')), axis=0)[-1]\n",
    "\n",
    "nb = {} \n",
    "for ang in angles: \n",
    "    nb[ang] = np.mean(np.loadtxt(os.path.join(dirname, f'{ang[0]}_{ang[1]}.txt')), axis=0)[1]\n",
    "\n",
    "nbp = {} \n",
    "for ang in angles: \n",
    "    nbp[ang] = np.mean(np.loadtxt(os.path.join(dirname, f'{ang[0]}_{ang[1]}.txt')), axis=0)[1]\n"
   ]
  },
  {
   "cell_type": "code",
   "execution_count": null,
   "metadata": {},
   "outputs": [],
   "source": [
    "# a0 b0\n",
    "n_a0_b0   = np.mean(np.loadtxt(os.path.join(dirname, f'{a0}_{b0}.txt')), axis=0)[-1]\n",
    "n_a0p_b0p = np.mean(np.loadtxt(os.path.join(dirname, f'{a0 + 90}_{b0 + 90}.txt')), axis=0)[-1]\n",
    "n_a0p_b0  = np.mean(np.loadtxt(os.path.join(dirname, f'{a0 + 90}_{b0}.txt')), axis=0)[-1]\n",
    "n_a0_b0p  = np.mean(np.loadtxt(os.path.join(dirname, f'{a0}_{b0 + 90}.txt')), axis=0)[-1]\n",
    "\n",
    "nb_a0_b0   = np.mean(np.loadtxt(os.path.join(dirname, f'{a0}_{b0}.txt')), axis=0)[1]\n",
    "nb_a0p_b0p = np.mean(np.loadtxt(os.path.join(dirname, f'{a0 + 90}_{b0 + 90}.txt')), axis=0)[1]\n",
    "nb_a0p_b0  = np.mean(np.loadtxt(os.path.join(dirname, f'{a0 + 90}_{b0}.txt')), axis=0)[1]\n",
    "nb_a0_b0p  = np.mean(np.loadtxt(os.path.join(dirname, f'{a0}_{b0 + 90}.txt')), axis=0)[1]\n",
    "\n",
    "nbp_a0_b0   = np.mean(np.loadtxt(os.path.join(dirname, f'{a0}_{b0}.txt')), axis=0)[3]\n",
    "nbp_a0p_b0p = np.mean(np.loadtxt(os.path.join(dirname, f'{a0 + 90}_{b0 + 90}.txt')), axis=0)[3]\n",
    "nbp_a0p_b0  = np.mean(np.loadtxt(os.path.join(dirname, f'{a0 + 90}_{b0}.txt')), axis=0)[3]\n",
    "nbp_a0_b0p  = np.mean(np.loadtxt(os.path.join(dirname, f'{a0}_{b0 + 90}.txt')), axis=0)[3]\n",
    "\n",
    "# a0 b1\n",
    "n_a0_b1   = np.mean(np.loadtxt(os.path.join(dirname, f'{a0}_{b1}.txt')), axis=0)[-1]\n",
    "n_a0p_b1p = np.mean(np.loadtxt(os.path.join(dirname, f'{a0 + 90}_{b1 + 90}.txt')), axis=0)[-1]\n",
    "n_a0p_b1  = np.mean(np.loadtxt(os.path.join(dirname, f'{a0 + 90}_{b1}.txt')), axis=0)[-1]\n",
    "n_a0_b1p  = np.mean(np.loadtxt(os.path.join(dirname, f'{a0}_{b1 + 90}.txt')), axis=0)[-1]\n",
    "\n",
    "nb_a0_b1   = np.mean(np.loadtxt(os.path.join(dirname, f'{a0}_{b1}.txt')), axis=0)[1]\n",
    "nb_a0p_b1p = np.mean(np.loadtxt(os.path.join(dirname, f'{a0 + 90}_{b1 + 90}.txt')), axis=0)[1]\n",
    "nb_a0p_b1  = np.mean(np.loadtxt(os.path.join(dirname, f'{a0 + 90}_{b1}.txt')), axis=0)[1]\n",
    "nb_a0_b1p  = np.mean(np.loadtxt(os.path.join(dirname, f'{a0}_{b1 + 90}.txt')), axis=0)[1]\n",
    "\n",
    "nbp_a0_b1   = np.mean(np.loadtxt(os.path.join(dirname, f'{a0}_{b1}.txt')), axis=0)[3]\n",
    "nbp_a0p_b1p = np.mean(np.loadtxt(os.path.join(dirname, f'{a0 + 90}_{b1 + 90}.txt')), axis=0)[3]\n",
    "nbp_a0p_b1  = np.mean(np.loadtxt(os.path.join(dirname, f'{a0 + 90}_{b1}.txt')), axis=0)[3]\n",
    "nbp_a0_b1p  = np.mean(np.loadtxt(os.path.join(dirname, f'{a0}_{b1 + 90}.txt')), axis=0)[3]\n",
    "\n",
    "# a1 b0\n",
    "n_a1_b0   = np.mean(np.loadtxt(os.path.join(dirname, f'{a1}_{b0}.txt')), axis=0)[-1]\n",
    "n_a1p_b0p = np.mean(np.loadtxt(os.path.join(dirname, f'{a1 + 90}_{b0 + 90}.txt')), axis=0)[-1]\n",
    "n_a1p_b0  = np.mean(np.loadtxt(os.path.join(dirname, f'{a1 + 90}_{b0}.txt')), axis=0)[-1]\n",
    "n_a1_b0p  = np.mean(np.loadtxt(os.path.join(dirname, f'{a1}_{b0 + 90}.txt')), axis=0)[-1]\n",
    "\n",
    "nb_a1_b0   = np.mean(np.loadtxt(os.path.join(dirname, f'{a1}_{b0}.txt')), axis=0)[1]\n",
    "nb_a1p_b0p = np.mean(np.loadtxt(os.path.join(dirname, f'{a1 + 90}_{b0 + 90}.txt')), axis=0)[1]\n",
    "nb_a1p_b0  = np.mean(np.loadtxt(os.path.join(dirname, f'{a1 + 90}_{b0}.txt')), axis=0)[1]\n",
    "nb_a1_b0p  = np.mean(np.loadtxt(os.path.join(dirname, f'{a1}_{b0 + 90}.txt')), axis=0)[1]\n",
    "\n",
    "nbp_a1_b0   = np.mean(np.loadtxt(os.path.join(dirname, f'{a1}_{b0}.txt')), axis=0)[3]\n",
    "nbp_a1p_b0p = np.mean(np.loadtxt(os.path.join(dirname, f'{a1 + 90}_{b0 + 90}.txt')), axis=0)[3]\n",
    "nbp_a1p_b0  = np.mean(np.loadtxt(os.path.join(dirname, f'{a1 + 90}_{b0}.txt')), axis=0)[3]\n",
    "nbp_a1_b0p  = np.mean(np.loadtxt(os.path.join(dirname, f'{a1}_{b0 + 90}.txt')), axis=0)[3]\n",
    "\n",
    "# a1 b1\n",
    "n_a1_b1   = np.mean(np.loadtxt(os.path.join(dirname, f'{a1}_{b1}.txt')), axis=0)[-1]\n",
    "n_a1p_b1p = np.mean(np.loadtxt(os.path.join(dirname, f'{a1 + 90}_{b1 + 90}.txt')), axis=0)[-1]\n",
    "n_a1p_b1  = np.mean(np.loadtxt(os.path.join(dirname, f'{a1 + 90}_{b1}.txt')), axis=0)[-1]\n",
    "n_a1_b1p  = np.mean(np.loadtxt(os.path.join(dirname, f'{a1}_{b1 + 90}.txt')), axis=0)[-1]\n",
    "\n",
    "nb_a1_b1   = np.mean(np.loadtxt(os.path.join(dirname, f'{a1}_{b1}.txt')), axis=0)[1]\n",
    "nb_a1p_b1p = np.mean(np.loadtxt(os.path.join(dirname, f'{a1 + 90}_{b1 + 90}.txt')), axis=0)[1]\n",
    "nb_a1p_b1  = np.mean(np.loadtxt(os.path.join(dirname, f'{a1 + 90}_{b1}.txt')), axis=0)[1]\n",
    "nb_a1_b1p  = np.mean(np.loadtxt(os.path.join(dirname, f'{a1}_{b1 + 90}.txt')), axis=0)[1]\n",
    "\n",
    "nbp_a1_b1   = np.mean(np.loadtxt(os.path.join(dirname, f'{a1}_{b1}.txt')), axis=0)[3]\n",
    "nbp_a1p_b1p = np.mean(np.loadtxt(os.path.join(dirname, f'{a1 + 90}_{b1 + 90}.txt')), axis=0)[3]\n",
    "nbp_a1p_b1  = np.mean(np.loadtxt(os.path.join(dirname, f'{a1 + 90}_{b1}.txt')), axis=0)[3]\n",
    "nbp_a1_b1p  = np.mean(np.loadtxt(os.path.join(dirname, f'{a1}_{b1 + 90}.txt')), axis=0)[3]"
   ]
  },
  {
   "cell_type": "markdown",
   "metadata": {},
   "source": [
    "## Calculate S"
   ]
  },
  {
   "cell_type": "code",
   "execution_count": 13,
   "metadata": {},
   "outputs": [],
   "source": [
    "def E(alpha, beta): \n",
    "    a_b, ap_b, a_bp, ap_bp = [n[(alpha, beta)], n[(alpha + 90, beta)], n[(alpha, beta + 90)], n[(alpha + 90, beta + 90)]]\n",
    "    return (a_b + ap_bp - a_bp - ap_b) / (a_b + ap_bp + a_bp + ap_b)\n",
    "\n",
    "S = E(a0, b0) - E(a0, b1) + E(a1, b0) + E(a1, b1)"
   ]
  },
  {
   "cell_type": "markdown",
   "metadata": {},
   "source": [
    "## Error propagation"
   ]
  },
  {
   "cell_type": "code",
   "execution_count": null,
   "metadata": {},
   "outputs": [
    {
     "name": "stdout",
     "output_type": "stream",
     "text": [
      "S = 2.378 ± 0.0822\n"
     ]
    }
   ],
   "source": [
    "ps = [(0, 0), (90, 90), (90, 0), (0, 90)]\n",
    "dss = {}\n",
    "for a, b in [(a0, b0), (a1, b0), (a0, b1), (a1, b1)]:\n",
    "    ds = 0\n",
    "    ntot = 0 \n",
    "\n",
    "    for pa, pb in ps:\n",
    "        ntot += n[(a + pa, b + pb)]\n",
    "\n",
    "    for pa, pb, in ps: \n",
    "        factor = 1\n",
    "        if pa + pb == 90: \n",
    "            factor = -1\n",
    "        ds += factor * n[(a + pa, b + pb)]\n",
    "\n",
    "    for pa, pb in ps: \n",
    "        if pa + pb == 90: \n",
    "            ds += -ntot\n",
    "        else: \n",
    "            ds += ntot \n",
    "    \n",
    "        dss[(a + pa, b + pb)] = ds / ntot**2 \n",
    "\n",
    "\n",
    "ntot_a0_b0 = n[(a0, b0)] + n[(a0 + 90, b0 + 90)] + n[(a0 + 90, b0)] + n[(a0, b0 + 90)]\n",
    "ntot_a1_b0 = n[(a1, b0)] + n[(a1 + 90, b0 + 90)] + n[(a1 + 90, b0)] + n[(a1, b0 + 90)]\n",
    "ntot_a0_b1 = n[(a0, b1)] + n[(a0 + 90, b1 + 90)] + n[(a0 + 90, b1)] + n[(a0, b1 + 90)]\n",
    "ntot_a1_b1 = n[(a1, b1)] + n[(a1 + 90, b1 + 90)] + n[(a1 + 90, b1)] + n[(a1, b1 + 90)]\n",
    "\n",
    "# s_a0_b0   = (ntot_a0_b0 - n_a0_b0 - n_a0p_b0p + n_a0p_b0 + n_a0_b0p) / ntot_a0_b0**2\n",
    "# s_a0p_b0p = (ntot_a0_b0 - n_a0_b0 - n_a0p_b0p + n_a0p_b0 + n_a0_b0p) / ntot_a0_b0**2\n",
    "# s_a0p_b0  = (-ntot_a0_b0 - n_a0_b0 - n_a0p_b0p + n_a0p_b0 + n_a0_b0p) / ntot_a0_b0**2\n",
    "# s_a0_b0p  = (-ntot_a0_b0 - n_a0_b0 - n_a0p_b0p + n_a0p_b0 + n_a0_b0p) / ntot_a0_b0**2\n",
    "\n",
    "# s_a1_b0   = (ntot_a1_b0 - n_a1_b0 - n_a1p_b0p + n_a1p_b0 + n_a1_b0p) / ntot_a1_b0**2\n",
    "# s_a1p_b0p = (ntot_a1_b0 - n_a1_b0 - n_a1p_b0p + n_a1p_b0 + n_a1_b0p) / ntot_a1_b0**2\n",
    "# s_a1p_b0  = (-ntot_a1_b0 - n_a1_b0 - n_a1p_b0p + n_a1p_b0 + n_a1_b0p) / ntot_a1_b0**2\n",
    "# s_a1_b0p  = (-ntot_a1_b0 - n_a1_b0 - n_a1p_b0p + n_a1p_b0 + n_a1_b0p) / ntot_a1_b0**2\n",
    "\n",
    "# s_a0_b1   = (ntot_a0_b1 - n_a0_b1 - n_a0p_b1p + n_a0p_b1 + n_a0_b1p) / ntot_a0_b1**2\n",
    "# s_a0p_b1p = (ntot_a0_b1 - n_a0_b1 - n_a0p_b1p + n_a0p_b1 + n_a0_b1p) / ntot_a0_b1**2\n",
    "# s_a0p_b1  = (-ntot_a0_b1 - n_a0_b1 - n_a0p_b1p + n_a0p_b1 + n_a0_b1p) / ntot_a0_b1**2\n",
    "# s_a0_b1p  = (-ntot_a0_b1 - n_a0_b1 - n_a0p_b1p + n_a0p_b1 + n_a0_b1p) / ntot_a0_b1**2\n",
    "\n",
    "# s_a1_b1   = (ntot_a1_b1 - n_a1_b1 - n_a1p_b1p + n_a1p_b1 + n_a1_b1p) / ntot_a1_b1**2\n",
    "# s_a1p_b1p = (ntot_a1_b1 - n_a1_b1 - n_a1p_b1p + n_a1p_b1 + n_a1_b1p) / ntot_a1_b1**2\n",
    "# s_a1p_b1  = (-ntot_a1_b1 - n_a1_b1 - n_a1p_b1p + n_a1p_b1 + n_a1_b1p) / ntot_a1_b1**2\n",
    "# s_a1_b1p  = (-ntot_a1_b1 - n_a1_b1 - n_a1p_b1p + n_a1p_b1 + n_a1_b1p) / ntot_a1_b1**2\n",
    "\n",
    "# ns = [\n",
    "#         n_a0_b0, n_a0p_b0p, n_a0p_b0, n_a0_b0p,\n",
    "#         n_a0_b1, n_a0p_b1p, n_a0p_b1, n_a0_b1p,\n",
    "#         n_a1_b0, n_a1p_b0p, n_a1p_b0, n_a1_b0p,\n",
    "#         n_a1_b1, n_a1p_b1p, n_a1p_b1, n_a1_b1p\n",
    "#       ]\n",
    "# s_derivs = [\n",
    "#         s_a0_b0, s_a0p_b0p, s_a0p_b0, s_a0_b0p,\n",
    "#         s_a0_b1, s_a0p_b1p, s_a0p_b1, s_a0_b1p,\n",
    "#         s_a1_b0, s_a1p_b0p, s_a1p_b0, s_a1_b0p,\n",
    "#         s_a1_b1, s_a1p_b1p, s_a1p_b1, s_a1_b1p\n",
    "#       ]\n",
    "\n",
    "\n",
    "std = np.sqrt(sum(n[(a, b)] * dss[(a, b)]**2 for a, b in angles))\n",
    "print(f'S = {'{:.4}'.format(S)} ± {'{:.3}'.format(std)}') "
   ]
  }
 ],
 "metadata": {
  "kernelspec": {
   "display_name": ".venv",
   "language": "python",
   "name": "python3"
  },
  "language_info": {
   "codemirror_mode": {
    "name": "ipython",
    "version": 3
   },
   "file_extension": ".py",
   "mimetype": "text/x-python",
   "name": "python",
   "nbconvert_exporter": "python",
   "pygments_lexer": "ipython3",
   "version": "3.13.1"
  }
 },
 "nbformat": 4,
 "nbformat_minor": 2
}
